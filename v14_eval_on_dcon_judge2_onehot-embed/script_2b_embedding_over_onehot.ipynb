{
 "cells": [
  {
   "cell_type": "code",
   "execution_count": 1,
   "id": "d4dc519a-d285-430d-9a81-2fa63026ee73",
   "metadata": {},
   "outputs": [
    {
     "name": "stderr",
     "output_type": "stream",
     "text": [
      "C:\\Users\\mchowdh5\\Anaconda3\\envs\\env_code_notears_concept\\lib\\site-packages\\tqdm\\auto.py:22: TqdmWarning: IProgress not found. Please update jupyter and ipywidgets. See https://ipywidgets.readthedocs.io/en/stable/user_install.html\n",
      "  from .autonotebook import tqdm as notebook_tqdm\n"
     ]
    }
   ],
   "source": [
    "import torch\n",
    "import torch.nn as nn\n",
    "\n",
    "class Net(nn.Module):\n",
    "    def __init__(self, genre_vocab_size, embedding_dim, other_input_shape):\n",
    "        super(Net, self).__init__()\n",
    "        \n",
    "        # Embedding layer for genre feature\n",
    "        self.genre_embedding = nn.Embedding(genre_vocab_size, embedding_dim)\n",
    "\n",
    "        # Other layers for other features\n",
    "        self.other_layers = nn.Sequential(\n",
    "            nn.Linear(other_input_shape, 64),\n",
    "            nn.ReLU(),\n",
    "            nn.Linear(64, 32),\n",
    "            nn.ReLU()\n",
    "        )\n",
    "\n",
    "        # Output layer\n",
    "        self.output_layer = nn.Linear(32, 1)\n",
    "\n",
    "    def forward(self, genre, other_inputs):\n",
    "        # Pass genre through the embedding layer\n",
    "        x = self.genre_embedding(genre)\n",
    "        \n",
    "        # Flatten the genre embedding\n",
    "        x = x.view(x.size(0), -1)\n",
    "\n",
    "        # Pass other inputs through other layers\n",
    "        x = self.other_layers(other_inputs)\n",
    "\n",
    "        # Concatenate genre embedding and other inputs\n",
    "        x = torch.cat([x, other_inputs], dim=1)\n",
    "\n",
    "        # Pass through the output layer\n",
    "        x = self.output_layer(x)\n",
    "\n",
    "        return x\n",
    "\n",
    "# Initialize the model\n",
    "genre_vocab_size = 2000\n",
    "embedding_dim = 50\n",
    "other_input_shape = 10\n",
    "model = Net(genre_vocab_size, embedding_dim, other_input_shape)\n",
    "\n",
    "# Loss function and optimizer\n",
    "criterion = nn.MSELoss()\n",
    "optimizer = torch.optim.Adam(model.parameters())"
   ]
  },
  {
   "cell_type": "code",
   "execution_count": null,
   "id": "95b91641-9b27-4c10-aff5-a492d74cf26b",
   "metadata": {},
   "outputs": [],
   "source": []
  }
 ],
 "metadata": {
  "kernelspec": {
   "display_name": "Python 3 (ipykernel)",
   "language": "python",
   "name": "python3"
  },
  "language_info": {
   "codemirror_mode": {
    "name": "ipython",
    "version": 3
   },
   "file_extension": ".py",
   "mimetype": "text/x-python",
   "name": "python",
   "nbconvert_exporter": "python",
   "pygments_lexer": "ipython3",
   "version": "3.8.13"
  }
 },
 "nbformat": 4,
 "nbformat_minor": 5
}
