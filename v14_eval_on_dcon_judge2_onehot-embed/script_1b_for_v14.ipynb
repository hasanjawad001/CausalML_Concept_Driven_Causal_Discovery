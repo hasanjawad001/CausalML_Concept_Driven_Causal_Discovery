{
 "cells": [
  {
   "cell_type": "code",
   "execution_count": 1,
   "id": "ff34c798-a07d-434d-a7a5-a4353f4a0eee",
   "metadata": {},
   "outputs": [],
   "source": [
    "import pandas as pd"
   ]
  },
  {
   "cell_type": "code",
   "execution_count": 2,
   "id": "abc54c00-1471-4375-967f-2e575f41ca19",
   "metadata": {},
   "outputs": [],
   "source": [
    "dir_1 = 'others/'"
   ]
  },
  {
   "cell_type": "code",
   "execution_count": 3,
   "id": "39ecf5b7-4d45-4541-9782-02ff1d7c6e2f",
   "metadata": {},
   "outputs": [],
   "source": [
    "df_1a = pd.read_csv(dir_1 + 'movie_meta_data.csv')"
   ]
  },
  {
   "cell_type": "code",
   "execution_count": 5,
   "id": "9de782da-5614-41fa-8d96-9482c36ac15d",
   "metadata": {},
   "outputs": [
    {
     "name": "stdout",
     "output_type": "stream",
     "text": [
      "(2858, 25)\n",
      "Index(['imdbid', 'title', 'akas', 'year', 'metascore', 'imdb user rating',\n",
      "       'number of imdb user votes', 'awards', 'opening weekend', 'producers',\n",
      "       'budget', 'script department', 'production companies', 'writers',\n",
      "       'directors', 'casting directors', 'cast', 'countries', 'age restrict',\n",
      "       'plot', 'plot outline', 'keywords', 'genres', 'taglines', 'synopsis'],\n",
      "      dtype='object')\n"
     ]
    }
   ],
   "source": [
    "print(df_1a.shape)\n",
    "print(df_1a.columns)"
   ]
  },
  {
   "cell_type": "code",
   "execution_count": 6,
   "id": "c33a825f-57ae-4b65-8efe-03957cd7b837",
   "metadata": {},
   "outputs": [],
   "source": [
    "list_col_1a = [\n",
    "    'imdbid', 'title',\n",
    "    'metascore', 'imdb user rating',\n",
    "    'awards', 'opening weekend', \n",
    "    'producers', 'script department', 'production companies', 'writers', 'directors', 'casting directors',\n",
    "    'budget', \n",
    "    'cast', \n",
    "    'plot', 'plot outline', 'keywords', 'genres', 'taglines', 'synopsis'\n",
    "]"
   ]
  },
  {
   "cell_type": "code",
   "execution_count": 7,
   "id": "cfa6bb9e-2d52-42aa-82aa-efe0fc13f022",
   "metadata": {},
   "outputs": [
    {
     "name": "stdout",
     "output_type": "stream",
     "text": [
      "(2858, 20)\n"
     ]
    }
   ],
   "source": [
    "df_1b = df_1a[list_col_1a]\n",
    "print(df_1b.shape)"
   ]
  },
  {
   "cell_type": "code",
   "execution_count": 8,
   "id": "d2dca4cb-e355-433f-b670-2b6c550fcf97",
   "metadata": {},
   "outputs": [],
   "source": [
    "df_2a = pd.read_csv(dir_1 + 'Movie+Assignment+Data.csv')"
   ]
  },
  {
   "cell_type": "code",
   "execution_count": 9,
   "id": "f87b8617-4cfc-4664-b723-b451a888d721",
   "metadata": {},
   "outputs": [],
   "source": [
    "set_2a = set(list(df_2a['Title']))"
   ]
  },
  {
   "cell_type": "code",
   "execution_count": 10,
   "id": "bb159cad-d541-4838-ae34-c1b7edcf6a68",
   "metadata": {},
   "outputs": [],
   "source": [
    "set_1a = set(list(df_1a['title']))"
   ]
  },
  {
   "cell_type": "code",
   "execution_count": 11,
   "id": "7a1b5a0a-6ff7-4ac9-a7e5-be9fca103f0b",
   "metadata": {},
   "outputs": [
    {
     "data": {
      "text/plain": [
       "(2820, 100)"
      ]
     },
     "execution_count": 11,
     "metadata": {},
     "output_type": "execute_result"
    }
   ],
   "source": [
    "len(set_1a), len(set_2a)"
   ]
  },
  {
   "cell_type": "code",
   "execution_count": 12,
   "id": "ce142379-891e-47a3-8ea7-5e71f9c73986",
   "metadata": {},
   "outputs": [
    {
     "data": {
      "text/plain": [
       "77"
      ]
     },
     "execution_count": 12,
     "metadata": {},
     "output_type": "execute_result"
    }
   ],
   "source": [
    "len(set_1a.intersection(set_2a))"
   ]
  },
  {
   "cell_type": "code",
   "execution_count": 13,
   "id": "b6677062-b81e-41b0-9cef-a01c663a3b68",
   "metadata": {},
   "outputs": [],
   "source": [
    "df_3a = pd.read_csv(dir_1 + 'imdb-movies.csv')"
   ]
  },
  {
   "cell_type": "code",
   "execution_count": 14,
   "id": "7b3728e5-f7dc-42a7-a3c2-2a98079acd7e",
   "metadata": {},
   "outputs": [],
   "source": [
    "set_3a = set(list(df_3a['original_title']))"
   ]
  },
  {
   "cell_type": "code",
   "execution_count": 15,
   "id": "1671238a-8bac-400d-b3b9-7969a28c6b6f",
   "metadata": {},
   "outputs": [
    {
     "data": {
      "text/plain": [
       "(2820, 10571)"
      ]
     },
     "execution_count": 15,
     "metadata": {},
     "output_type": "execute_result"
    }
   ],
   "source": [
    "len(set_1a), len(set_3a)"
   ]
  },
  {
   "cell_type": "code",
   "execution_count": 16,
   "id": "9fff413c-fe86-48f8-ac9e-1ee40548180f",
   "metadata": {},
   "outputs": [
    {
     "data": {
      "text/plain": [
       "1799"
      ]
     },
     "execution_count": 16,
     "metadata": {},
     "output_type": "execute_result"
    }
   ],
   "source": [
    "len(set_1a.intersection(set_3a))"
   ]
  },
  {
   "cell_type": "code",
   "execution_count": 17,
   "id": "b92c4349-1dca-4f6d-9bb7-b91d18721c8f",
   "metadata": {},
   "outputs": [
    {
     "data": {
      "text/plain": [
       "Index(['id', 'imdb_id', 'popularity', 'budget', 'revenue', 'original_title',\n",
       "       'cast', 'homepage', 'director', 'tagline', 'keywords', 'overview',\n",
       "       'runtime', 'genres', 'production_companies', 'release_date',\n",
       "       'vote_count', 'vote_average', 'release_year', 'budget_adj',\n",
       "       'revenue_adj'],\n",
       "      dtype='object')"
      ]
     },
     "execution_count": 17,
     "metadata": {},
     "output_type": "execute_result"
    }
   ],
   "source": [
    "df_3a.columns"
   ]
  },
  {
   "cell_type": "code",
   "execution_count": 18,
   "id": "0d37d199-4729-4e70-a585-add28ad7de50",
   "metadata": {},
   "outputs": [
    {
     "data": {
      "text/plain": [
       "Index(['imdbid', 'title', 'akas', 'year', 'metascore', 'imdb user rating',\n",
       "       'number of imdb user votes', 'awards', 'opening weekend', 'producers',\n",
       "       'budget', 'script department', 'production companies', 'writers',\n",
       "       'directors', 'casting directors', 'cast', 'countries', 'age restrict',\n",
       "       'plot', 'plot outline', 'keywords', 'genres', 'taglines', 'synopsis'],\n",
       "      dtype='object')"
      ]
     },
     "execution_count": 18,
     "metadata": {},
     "output_type": "execute_result"
    }
   ],
   "source": [
    "df_1a.columns"
   ]
  },
  {
   "cell_type": "code",
   "execution_count": null,
   "id": "82e3eb9c-dfb3-4871-8f75-34dbe4feedc6",
   "metadata": {},
   "outputs": [],
   "source": []
  },
  {
   "cell_type": "code",
   "execution_count": 19,
   "id": "6d005261-4894-4f1b-985a-8c1bd9c93091",
   "metadata": {},
   "outputs": [
    {
     "data": {
      "text/plain": [
       "(1968, 46)"
      ]
     },
     "execution_count": 19,
     "metadata": {},
     "output_type": "execute_result"
    }
   ],
   "source": [
    "df_merged = pd.merge(df_1a, df_3a, left_on='title', right_on='original_title')\n",
    "df_merged.shape"
   ]
  },
  {
   "cell_type": "code",
   "execution_count": 20,
   "id": "8c56ed8d-9484-4b6a-ae1d-211d90b5295c",
   "metadata": {},
   "outputs": [
    {
     "data": {
      "text/plain": [
       "Index(['imdbid', 'title', 'akas', 'year', 'metascore', 'imdb user rating',\n",
       "       'number of imdb user votes', 'awards', 'opening weekend', 'producers',\n",
       "       'budget_x', 'script department', 'production companies', 'writers',\n",
       "       'directors', 'casting directors', 'cast_x', 'countries', 'age restrict',\n",
       "       'plot', 'plot outline', 'keywords_x', 'genres_x', 'taglines',\n",
       "       'synopsis', 'id', 'imdb_id', 'popularity', 'budget_y', 'revenue',\n",
       "       'original_title', 'cast_y', 'homepage', 'director', 'tagline',\n",
       "       'keywords_y', 'overview', 'runtime', 'genres_y', 'production_companies',\n",
       "       'release_date', 'vote_count', 'vote_average', 'release_year',\n",
       "       'budget_adj', 'revenue_adj'],\n",
       "      dtype='object')"
      ]
     },
     "execution_count": 20,
     "metadata": {},
     "output_type": "execute_result"
    }
   ],
   "source": [
    "df_merged.columns"
   ]
  },
  {
   "cell_type": "code",
   "execution_count": 21,
   "id": "9155afe7-4c64-4ae4-8560-ff6fe2f4245a",
   "metadata": {},
   "outputs": [
    {
     "data": {
      "text/plain": [
       "imdbid                                                                  120770\n",
       "title                                                   A Night at the Roxbury\n",
       "akas                         Une nuit au Roxbury (France), Movida en el Rox...\n",
       "year                                                                      1998\n",
       "metascore                                                                   26\n",
       "imdb user rating                                                             6\n",
       "number of imdb user votes                                                56537\n",
       "awards                                                                     NaN\n",
       "opening weekend                                                United States: \n",
       "producers                    Marie Cantin, Erin Fraser, Amy Heckerling, Ste...\n",
       "budget_x                                               $17,000,000 (estimated)\n",
       "script department                                                          NaN\n",
       "production companies         Broadway Pictures, Paramount Pictures, SNL Stu...\n",
       "writers                                Steve Koren, Will Ferrell, Chris Kattan\n",
       "directors                                                     John Fortenberry\n",
       "casting directors                                               Jeff Greenberg\n",
       "cast_x                       Will Ferrell, Chris Kattan, Raquel Gardner, Vi...\n",
       "countries                                                        United States\n",
       "age restrict                 Argentina:13, Australia:M, Brazil:14, Canada:P...\n",
       "plot                         Two dim-witted brothers dream of owning their ...\n",
       "plot outline                 The Roxbury Guys, Steve and Doug Butabi, want ...\n",
       "keywords_x                   woman-on-top, nightclub, car-accident, 1990s, ...\n",
       "genres_x                                                Comedy, Music, Romance\n",
       "taglines                                                                Score!\n",
       "synopsis                                                                   NaN\n",
       "id                                                                        9429\n",
       "imdb_id                                                              tt0120770\n",
       "popularity                                                            0.669113\n",
       "budget_y                                                              17000000\n",
       "revenue                                                               30331165\n",
       "original_title                                          A Night at the Roxbury\n",
       "cast_y                       Will Ferrell|Chris Kattan|Jennifer Coolidge|Mi...\n",
       "homepage                                                                   NaN\n",
       "director                                                      John Fortenberry\n",
       "tagline                                                                 Score!\n",
       "keywords_y                   night life|nightclub|flower|flower shop|make a...\n",
       "overview                     Despite being well into adulthood, brothers Do...\n",
       "runtime                                                                     81\n",
       "genres_y                                                                Comedy\n",
       "production_companies                            Paramount Pictures|SNL Studios\n",
       "release_date                                                           10/1/98\n",
       "vote_count                                                                  96\n",
       "vote_average                                                               6.2\n",
       "release_year                                                              1998\n",
       "budget_adj                                                     22740822.974331\n",
       "revenue_adj                                                    40573861.992366\n",
       "Name: 0, dtype: object"
      ]
     },
     "execution_count": 21,
     "metadata": {},
     "output_type": "execute_result"
    }
   ],
   "source": [
    "df_merged.iloc[0,:]"
   ]
  },
  {
   "cell_type": "code",
   "execution_count": null,
   "id": "670e64dc-95ab-43c6-b652-1bbab357921b",
   "metadata": {},
   "outputs": [],
   "source": []
  },
  {
   "cell_type": "code",
   "execution_count": null,
   "id": "0edbe553-2455-4e29-86de-2f07170d2958",
   "metadata": {},
   "outputs": [],
   "source": []
  }
 ],
 "metadata": {
  "kernelspec": {
   "display_name": "Python 3 (ipykernel)",
   "language": "python",
   "name": "python3"
  },
  "language_info": {
   "codemirror_mode": {
    "name": "ipython",
    "version": 3
   },
   "file_extension": ".py",
   "mimetype": "text/x-python",
   "name": "python",
   "nbconvert_exporter": "python",
   "pygments_lexer": "ipython3",
   "version": "3.8.13"
  }
 },
 "nbformat": 4,
 "nbformat_minor": 5
}
