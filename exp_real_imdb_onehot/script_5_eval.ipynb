{
 "cells": [
  {
   "cell_type": "code",
   "execution_count": 26,
   "id": "46a620ec",
   "metadata": {},
   "outputs": [],
   "source": [
    "import pandas as pd\n",
    "import numpy as np"
   ]
  },
  {
   "cell_type": "code",
   "execution_count": 27,
   "id": "51e059b5",
   "metadata": {},
   "outputs": [],
   "source": [
    "dir_1 = 'outputs/'"
   ]
  },
  {
   "cell_type": "code",
   "execution_count": 30,
   "id": "b6b3c8d8",
   "metadata": {},
   "outputs": [],
   "source": [
    "list_option = [\n",
    "#     (True, 0.005, 0.3),\n",
    "#     (True, 0.005, 0.2),                               \n",
    "    (True, 0.001, 0.3),\n",
    "#     (True, 0.001, 0.2),                \n",
    "#     (True, 0.0005, 0.3),\n",
    "#     (True, 0.0005, 0.2),                                \n",
    "]"
   ]
  },
  {
   "cell_type": "code",
   "execution_count": 31,
   "id": "8ebea597",
   "metadata": {},
   "outputs": [
    {
     "name": "stdout",
     "output_type": "stream",
     "text": [
      "======================================\n",
      "True 0.001 0.3\n",
      "  index    bud  cas  gen    wee    imd  rev\n",
      "0   bud  0.000  0.0  0.0  0.000  0.435  0.0\n",
      "1   cas  0.000  0.0  0.0  0.000  0.351  0.0\n",
      "2   gen  0.677  0.0  0.0  0.311  0.555  0.0\n",
      "3   wee  0.000  0.0  0.0  0.000  0.000  0.0\n",
      "4   imd  0.000  0.0  0.0  0.000  0.000  0.0\n",
      "5   rev  0.000  0.0  0.0  0.000  0.811  0.0\n",
      "  index  bud  cas  gen  wee  imd  rev\n",
      "0   bud  0.0  0.0  0.0  0.0  1.0  0.0\n",
      "1   cas  0.0  1.0  0.0  1.0  1.0  0.0\n",
      "2   gen  1.0  1.0  1.0  1.0  1.0  0.0\n",
      "3   wee  0.0  0.0  0.0  0.0  0.0  0.0\n",
      "4   imd  0.0  1.0  0.0  0.0  0.0  0.0\n",
      "5   rev  0.0  1.0  0.0  0.0  1.0  0.0\n",
      "======================================\n"
     ]
    }
   ],
   "source": [
    "for opt in list_option:\n",
    "    suffix = str(opt[0]) + str(opt[1]) + str(opt[2]) + '.csv'    \n",
    "    ##################################################################\n",
    "    fn_1 = dir_1 + 'W_con_' + suffix\n",
    "    df_1 = pd.read_csv(fn_1, header=None)\n",
    "    df_1.columns = [\n",
    "        'bud', 'cas', 'gen', 'wee', 'imd', 'rev'\n",
    "    ]\n",
    "    df_1['index'] = [\n",
    "        'bud', 'cas', 'gen', 'wee', 'imd', 'rev'\n",
    "    ]\n",
    "    df_1 = df_1[[\n",
    "        'index',\n",
    "        'bud', 'cas', 'gen', 'wee', 'imd', 'rev'\n",
    "    ]]    \n",
    "    ##################################################################\n",
    "    fn_2 = dir_1 + 'W_flat_' + suffix        \n",
    "    df_2 = pd.read_csv(fn_2, header=None)\n",
    "    df_2.columns = [\n",
    "        'bud', 'cas', 'gen', 'wee', 'imd', 'rev'\n",
    "    ]\n",
    "    df_2['index'] = [\n",
    "        'bud', 'cas', 'gen', 'wee', 'imd', 'rev'\n",
    "    ]\n",
    "    df_2 = df_2[[\n",
    "        'index',\n",
    "        'bud', 'cas', 'gen', 'wee', 'imd', 'rev'\n",
    "    ]]    \n",
    "    ##################################################################    \n",
    "    print('======================================')\n",
    "    print(opt[0], opt[1], opt[2])\n",
    "    print(df_1.round(3))\n",
    "    print(df_2.round(3))\n",
    "    print('======================================')"
   ]
  },
  {
   "cell_type": "code",
   "execution_count": null,
   "id": "c3d684dc",
   "metadata": {},
   "outputs": [],
   "source": []
  },
  {
   "cell_type": "code",
   "execution_count": null,
   "id": "3cb6dffe",
   "metadata": {},
   "outputs": [],
   "source": []
  },
  {
   "cell_type": "code",
   "execution_count": null,
   "id": "73afa136",
   "metadata": {},
   "outputs": [],
   "source": []
  }
 ],
 "metadata": {
  "kernelspec": {
   "display_name": "Python 3 (ipykernel)",
   "language": "python",
   "name": "python3"
  },
  "language_info": {
   "codemirror_mode": {
    "name": "ipython",
    "version": 3
   },
   "file_extension": ".py",
   "mimetype": "text/x-python",
   "name": "python",
   "nbconvert_exporter": "python",
   "pygments_lexer": "ipython3",
   "version": "3.8.13"
  }
 },
 "nbformat": 4,
 "nbformat_minor": 5
}
