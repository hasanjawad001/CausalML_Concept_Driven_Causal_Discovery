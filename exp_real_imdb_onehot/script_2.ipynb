{
 "cells": [
  {
   "cell_type": "code",
   "execution_count": 1,
   "id": "53ca60d3",
   "metadata": {},
   "outputs": [],
   "source": [
    "import pandas as pd\n",
    "import numpy as np\n",
    "from sklearn.preprocessing import OneHotEncoder, LabelEncoder\n",
    "import torch\n",
    "import torch.nn as nn\n",
    "import math\n",
    "from datetime import datetime"
   ]
  },
  {
   "cell_type": "code",
   "execution_count": 2,
   "id": "6857b481",
   "metadata": {},
   "outputs": [],
   "source": [
    "dir_1 = 'datasets/'"
   ]
  },
  {
   "cell_type": "code",
   "execution_count": 3,
   "id": "40e66677",
   "metadata": {},
   "outputs": [],
   "source": [
    "df_1a = pd.read_csv(dir_1 + 'movie_meta_data.csv')\n",
    "df_2a = pd.read_csv(dir_1 + 'imdb-movies.csv')"
   ]
  },
  {
   "cell_type": "code",
   "execution_count": 5,
   "id": "f338af84",
   "metadata": {},
   "outputs": [
    {
     "name": "stdout",
     "output_type": "stream",
     "text": [
      "(2858, 25)\n",
      "(10866, 21)\n"
     ]
    }
   ],
   "source": [
    "print(df_1a.shape)\n",
    "print(df_2a.shape)"
   ]
  },
  {
   "cell_type": "code",
   "execution_count": 6,
   "id": "15c04ef6",
   "metadata": {},
   "outputs": [
    {
     "data": {
      "text/plain": [
       "(1968, 46)"
      ]
     },
     "execution_count": 6,
     "metadata": {},
     "output_type": "execute_result"
    }
   ],
   "source": [
    "df_3a = pd.merge(df_1a, df_2a, left_on='title', right_on='original_title')\n",
    "df_3a.shape"
   ]
  },
  {
   "cell_type": "code",
   "execution_count": 7,
   "id": "eaec75ad",
   "metadata": {},
   "outputs": [
    {
     "data": {
      "text/plain": [
       "Index(['imdbid', 'title', 'akas', 'year', 'metascore', 'imdb user rating',\n",
       "       'number of imdb user votes', 'awards', 'opening weekend', 'producers',\n",
       "       'budget_x', 'script department', 'production companies', 'writers',\n",
       "       'directors', 'casting directors', 'cast_x', 'countries', 'age restrict',\n",
       "       'plot', 'plot outline', 'keywords_x', 'genres_x', 'taglines',\n",
       "       'synopsis', 'id', 'imdb_id', 'popularity', 'budget_y', 'revenue',\n",
       "       'original_title', 'cast_y', 'homepage', 'director', 'tagline',\n",
       "       'keywords_y', 'overview', 'runtime', 'genres_y', 'production_companies',\n",
       "       'release_date', 'vote_count', 'vote_average', 'release_year',\n",
       "       'budget_adj', 'revenue_adj'],\n",
       "      dtype='object')"
      ]
     },
     "execution_count": 7,
     "metadata": {},
     "output_type": "execute_result"
    }
   ],
   "source": [
    "df_3a.columns"
   ]
  },
  {
   "cell_type": "code",
   "execution_count": 8,
   "id": "a20f1843",
   "metadata": {},
   "outputs": [],
   "source": [
    "list_col = [    \n",
    "    'budget_y',\n",
    "    'writers', 'directors', 'producers', 'cast_x',\n",
    "    'genres_x',    \n",
    "    'metascore', 'imdb user rating',        \n",
    "    'release_date',\n",
    "    'revenue',\n",
    "]"
   ]
  },
  {
   "cell_type": "code",
   "execution_count": 9,
   "id": "0b1d8389",
   "metadata": {},
   "outputs": [],
   "source": [
    "df_3b = df_3a[list_col]"
   ]
  },
  {
   "cell_type": "code",
   "execution_count": 10,
   "id": "b2c4e69c",
   "metadata": {},
   "outputs": [],
   "source": [
    "df_3c = df_3b.drop(df_3b[df_3b['budget_y'] < 0].index)\n",
    "df_3d = df_3c.drop(df_3c[df_3c['revenue'] < 0].index)\n",
    "df_3e = df_3d.drop(df_3d[(df_3d['metascore'] < 0) | (df_3d['metascore'] > 100)].index)\n",
    "df_3f = df_3e.drop(df_3e[(df_3e['imdb user rating'] < 1) | (df_3e['imdb user rating'] > 10)].index)"
   ]
  },
  {
   "cell_type": "code",
   "execution_count": 11,
   "id": "17ba6f23",
   "metadata": {},
   "outputs": [
    {
     "data": {
      "text/plain": [
       "((1968, 10), (1968, 10), (1968, 10), (1764, 10), (1764, 10))"
      ]
     },
     "execution_count": 11,
     "metadata": {},
     "output_type": "execute_result"
    }
   ],
   "source": [
    "df_3b.shape, df_3c.shape, df_3d.shape, df_3e.shape, df_3f.shape"
   ]
  },
  {
   "cell_type": "code",
   "execution_count": 12,
   "id": "6d966fbc",
   "metadata": {},
   "outputs": [],
   "source": [
    "df_3f['writers'] = df_3f['writers'].apply(lambda x: str(x).split(','))\n",
    "df_3f['writers'] = df_3f['writers'].apply(lambda x: [writer.strip() for writer in x])\n",
    "col_writers = list(df_3f['writers'])\n",
    "d_writer_vs_index = {}\n",
    "iw=0\n",
    "for writers in col_writers:\n",
    "    for w in writers:\n",
    "        if w not in d_writer_vs_index.keys():\n",
    "            d_writer_vs_index[w] = iw\n",
    "            iw+=1\n",
    "df_3f['writers'] = df_3f['writers'].apply(lambda x: [d_writer_vs_index[writer] for writer in x])\n",
    "w_vocab_size = len(d_writer_vs_index.keys()) + 1\n",
    "w_embedding_dim = math.floor(math.log2(w_vocab_size) + 1)\n",
    "w_embedding_layer = nn.Embedding(w_vocab_size, w_embedding_dim) \n",
    "df_3f['writers'] = df_3f['writers'].apply(lambda x: [w_embedding_layer(torch.tensor(iw)).detach().numpy() for iw in x])\n",
    "df_3f['writers'] = df_3f['writers'].apply(lambda x: np.mean(np.array(x), axis=0))"
   ]
  },
  {
   "cell_type": "code",
   "execution_count": 13,
   "id": "aa3d1e97",
   "metadata": {},
   "outputs": [],
   "source": [
    "df_3f['directors'] = df_3f['directors'].apply(lambda x: str(x).split(','))\n",
    "df_3f['directors'] = df_3f['directors'].apply(lambda x: [director.strip() for director in x])\n",
    "col_directors = list(df_3f['directors'])\n",
    "d_director_vs_index = {}\n",
    "idirector=0\n",
    "for directors in col_directors:\n",
    "    for d in directors:\n",
    "        if d not in d_director_vs_index.keys():\n",
    "            d_director_vs_index[d] = idirector\n",
    "            idirector+=1\n",
    "df_3f['directors'] = df_3f['directors'].apply(lambda x: [d_director_vs_index[director] for director in x])\n",
    "d_vocab_size = len(d_director_vs_index.keys()) + 1\n",
    "d_embedding_dim = math.floor(math.log2(d_vocab_size) + 1)\n",
    "d_embedding_layer = nn.Embedding(d_vocab_size, d_embedding_dim) \n",
    "df_3f['directors'] = df_3f['directors'].apply(lambda x: [d_embedding_layer(torch.tensor(idirector)).detach().numpy() for idirector in x])\n",
    "df_3f['directors'] = df_3f['directors'].apply(lambda x: np.mean(np.array(x), axis=0))"
   ]
  },
  {
   "cell_type": "code",
   "execution_count": 14,
   "id": "7f933100",
   "metadata": {},
   "outputs": [],
   "source": [
    "df_3f['producers'] = df_3f['producers'].apply(lambda x: str(x).split(','))\n",
    "df_3f['producers'] = df_3f['producers'].apply(lambda x: [producer.strip() for producer in x])\n",
    "col_p = list(df_3f['producers'])\n",
    "d_p_vs_index = {}\n",
    "ip=0\n",
    "for ps in col_p:\n",
    "    for p in ps:\n",
    "        if p not in d_p_vs_index.keys():\n",
    "            d_p_vs_index[p] = ip\n",
    "            ip+=1\n",
    "df_3f['producers'] = df_3f['producers'].apply(lambda x: [d_p_vs_index[p] for p in x])\n",
    "p_vocab_size = len(d_p_vs_index.keys()) + 1\n",
    "p_embedding_dim = math.floor(math.log2(p_vocab_size) + 1)\n",
    "p_embedding_layer = nn.Embedding(p_vocab_size, p_embedding_dim) \n",
    "df_3f['producers'] = df_3f['producers'].apply(lambda x: [p_embedding_layer(torch.tensor(ip)).detach().numpy() for ip in x])\n",
    "df_3f['producers'] = df_3f['producers'].apply(lambda x: np.mean(np.array(x), axis=0))"
   ]
  },
  {
   "cell_type": "code",
   "execution_count": 15,
   "id": "bf2d8a85",
   "metadata": {},
   "outputs": [],
   "source": [
    "df_3f['cast_x'] = df_3f['cast_x'].apply(lambda x: str(x).split(','))\n",
    "df_3f['cast_x'] = df_3f['cast_x'].apply(lambda x: [cast.strip() for cast in x])\n",
    "col_c = list(df_3f['cast_x'])\n",
    "d_c_vs_index = {}\n",
    "ic=0\n",
    "for cs in col_c:\n",
    "    for c in cs:\n",
    "        if c not in d_c_vs_index.keys():\n",
    "            d_c_vs_index[c] = ic\n",
    "            ic+=1\n",
    "df_3f['cast_x'] = df_3f['cast_x'].apply(lambda x: [d_c_vs_index[c] for c in x])\n",
    "c_vocab_size = len(d_c_vs_index.keys()) + 1\n",
    "c_embedding_dim = math.floor(math.log2(c_vocab_size) + 1)\n",
    "c_embedding_layer = nn.Embedding(c_vocab_size, c_embedding_dim) \n",
    "df_3f['cast_x'] = df_3f['cast_x'].apply(lambda x: [c_embedding_layer(torch.tensor(ic)).detach().numpy() for ic in x])\n",
    "df_3f['cast_x'] = df_3f['cast_x'].apply(lambda x: np.mean(np.array(x), axis=0))"
   ]
  },
  {
   "cell_type": "code",
   "execution_count": 16,
   "id": "61bbd65c",
   "metadata": {},
   "outputs": [],
   "source": [
    "df_3f['genres_x'] = df_3f['genres_x'].apply(lambda x: str(x).split(','))\n",
    "df_3f['genres_x'] = df_3f['genres_x'].apply(lambda x: [genre.strip() for genre in x])\n",
    "col_g = list(df_3f['genres_x'])\n",
    "d_g_vs_index = {}\n",
    "ig=0\n",
    "for gs in col_g:\n",
    "    for g in gs:\n",
    "        if g not in d_g_vs_index.keys():\n",
    "            d_g_vs_index[g] = ig\n",
    "            ig+=1\n",
    "df_3f['genres_x'] = df_3f['genres_x'].apply(lambda x: [d_g_vs_index[g] for g in x])\n",
    "g_vocab_size = len(d_g_vs_index.keys()) + 1\n",
    "g_embedding_dim = math.floor(math.log2(g_vocab_size) + 1)\n",
    "g_embedding_layer = nn.Embedding(g_vocab_size, g_embedding_dim) \n",
    "df_3f['genres_x'] = df_3f['genres_x'].apply(lambda x: [g_embedding_layer(torch.tensor(ig)).detach().numpy() for ig in x])\n",
    "df_3f['genres_x'] = df_3f['genres_x'].apply(lambda x: np.mean(np.array(x), axis=0))"
   ]
  },
  {
   "cell_type": "code",
   "execution_count": 17,
   "id": "0b4eeb35",
   "metadata": {},
   "outputs": [],
   "source": [
    "df_3f['week_of_year'] = df_3f['release_date'].apply(lambda x: datetime.strptime(x, '%m/%d/%y').isocalendar()[1])"
   ]
  },
  {
   "cell_type": "code",
   "execution_count": 18,
   "id": "07b634a7",
   "metadata": {},
   "outputs": [
    {
     "name": "stdout",
     "output_type": "stream",
     "text": [
      "2410 12\n",
      "881 10\n",
      "6027 13\n",
      "71518 17\n",
      "23 5\n"
     ]
    }
   ],
   "source": [
    "print(w_vocab_size, w_embedding_dim)\n",
    "print(d_vocab_size, d_embedding_dim)\n",
    "print(p_vocab_size, p_embedding_dim)\n",
    "print(c_vocab_size, c_embedding_dim)\n",
    "print(g_vocab_size, g_embedding_dim)\n",
    "# 2410 12\n",
    "# 881 10\n",
    "# 6027 13\n",
    "# 71518 17\n",
    "# 23 5"
   ]
  },
  {
   "cell_type": "code",
   "execution_count": 19,
   "id": "5adf0fac",
   "metadata": {},
   "outputs": [
    {
     "data": {
      "text/html": [
       "<div>\n",
       "<style scoped>\n",
       "    .dataframe tbody tr th:only-of-type {\n",
       "        vertical-align: middle;\n",
       "    }\n",
       "\n",
       "    .dataframe tbody tr th {\n",
       "        vertical-align: top;\n",
       "    }\n",
       "\n",
       "    .dataframe thead th {\n",
       "        text-align: right;\n",
       "    }\n",
       "</style>\n",
       "<table border=\"1\" class=\"dataframe\">\n",
       "  <thead>\n",
       "    <tr style=\"text-align: right;\">\n",
       "      <th></th>\n",
       "      <th>budget_y</th>\n",
       "      <th>writers</th>\n",
       "      <th>directors</th>\n",
       "      <th>producers</th>\n",
       "      <th>cast_x</th>\n",
       "      <th>genres_x</th>\n",
       "      <th>metascore</th>\n",
       "      <th>imdb user rating</th>\n",
       "      <th>release_date</th>\n",
       "      <th>revenue</th>\n",
       "      <th>week_of_year</th>\n",
       "    </tr>\n",
       "  </thead>\n",
       "  <tbody>\n",
       "    <tr>\n",
       "      <th>0</th>\n",
       "      <td>17000000</td>\n",
       "      <td>[-0.6893514, 0.027065942, -0.5796865, -0.94012...</td>\n",
       "      <td>[0.13440827, 2.6390803, -0.73129773, -1.417367...</td>\n",
       "      <td>[0.0672495, 0.23757625, -0.33949712, -0.151524...</td>\n",
       "      <td>[-0.18605737, -0.035827875, -0.02928893, 0.014...</td>\n",
       "      <td>[-0.06979808, -1.3382453, -0.98028475, 0.21630...</td>\n",
       "      <td>26</td>\n",
       "      <td>6</td>\n",
       "      <td>10/1/98</td>\n",
       "      <td>30331165</td>\n",
       "      <td>40</td>\n",
       "    </tr>\n",
       "    <tr>\n",
       "      <th>1</th>\n",
       "      <td>0</td>\n",
       "      <td>[-1.2058403, 0.3268854, 0.7174303, -0.6224141,...</td>\n",
       "      <td>[-2.0156517, 0.59724534, -1.0167195, -0.865958...</td>\n",
       "      <td>[-0.14680491, 0.14712627, -1.1016364, -0.57326...</td>\n",
       "      <td>[0.15328898, 0.045781136, -0.018145978, 0.0145...</td>\n",
       "      <td>[0.0021236688, -0.15965456, -1.4836801, -0.585...</td>\n",
       "      <td>40</td>\n",
       "      <td>6</td>\n",
       "      <td>1/15/99</td>\n",
       "      <td>0</td>\n",
       "      <td>2</td>\n",
       "    </tr>\n",
       "  </tbody>\n",
       "</table>\n",
       "</div>"
      ],
      "text/plain": [
       "   budget_y                                            writers  \\\n",
       "0  17000000  [-0.6893514, 0.027065942, -0.5796865, -0.94012...   \n",
       "1         0  [-1.2058403, 0.3268854, 0.7174303, -0.6224141,...   \n",
       "\n",
       "                                           directors  \\\n",
       "0  [0.13440827, 2.6390803, -0.73129773, -1.417367...   \n",
       "1  [-2.0156517, 0.59724534, -1.0167195, -0.865958...   \n",
       "\n",
       "                                           producers  \\\n",
       "0  [0.0672495, 0.23757625, -0.33949712, -0.151524...   \n",
       "1  [-0.14680491, 0.14712627, -1.1016364, -0.57326...   \n",
       "\n",
       "                                              cast_x  \\\n",
       "0  [-0.18605737, -0.035827875, -0.02928893, 0.014...   \n",
       "1  [0.15328898, 0.045781136, -0.018145978, 0.0145...   \n",
       "\n",
       "                                            genres_x  metascore  \\\n",
       "0  [-0.06979808, -1.3382453, -0.98028475, 0.21630...         26   \n",
       "1  [0.0021236688, -0.15965456, -1.4836801, -0.585...         40   \n",
       "\n",
       "   imdb user rating release_date   revenue  week_of_year  \n",
       "0                 6      10/1/98  30331165            40  \n",
       "1                 6      1/15/99         0             2  "
      ]
     },
     "execution_count": 19,
     "metadata": {},
     "output_type": "execute_result"
    }
   ],
   "source": [
    "df_3f.head(2)"
   ]
  },
  {
   "cell_type": "code",
   "execution_count": 20,
   "id": "f986482b",
   "metadata": {},
   "outputs": [],
   "source": [
    "df_3f[[\n",
    "    'w1','w2', 'w3','w4', 'w5','w6',\n",
    "    'w7','w8', 'w9','w10', 'w11','w12'    \n",
    "]] = pd.DataFrame(df_3f.writers.tolist(), index= df_3f.index)"
   ]
  },
  {
   "cell_type": "code",
   "execution_count": 21,
   "id": "d79a892a",
   "metadata": {},
   "outputs": [],
   "source": [
    "df_3f[[\n",
    "    'd1','d2', 'd3','d4', 'd5','d6',\n",
    "    'd7','d8', 'd9','d10'   \n",
    "]] = pd.DataFrame(df_3f.directors.tolist(), index= df_3f.index)"
   ]
  },
  {
   "cell_type": "code",
   "execution_count": 22,
   "id": "35f4b57b",
   "metadata": {},
   "outputs": [],
   "source": [
    "df_3f[[\n",
    "    'p1','p2', 'p3','p4', 'p5','p6',\n",
    "    'p7','p8', 'p9','p10', 'p11', 'p12', 'p13'   \n",
    "]] = pd.DataFrame(df_3f.producers.tolist(), index= df_3f.index)"
   ]
  },
  {
   "cell_type": "code",
   "execution_count": 23,
   "id": "32cdc0f1",
   "metadata": {},
   "outputs": [],
   "source": [
    "df_3f[[\n",
    "    'c1','c2', 'c3','c4', 'c5','c6',\n",
    "    'c7','c8', 'c9','c10', 'c11', 'c12', 'c13',\n",
    "    'c14','c15', 'c16','c17'    \n",
    "]] = pd.DataFrame(df_3f.cast_x.tolist(), index= df_3f.index)"
   ]
  },
  {
   "cell_type": "code",
   "execution_count": 24,
   "id": "76df65ef",
   "metadata": {},
   "outputs": [],
   "source": [
    "df_3f[[\n",
    "    'g1','g2', 'g3','g4', 'g5'\n",
    "]] = pd.DataFrame(df_3f.genres_x.tolist(), index= df_3f.index)"
   ]
  },
  {
   "cell_type": "code",
   "execution_count": 25,
   "id": "ea51bdd5",
   "metadata": {},
   "outputs": [],
   "source": [
    "df_3f['budget'] = df_3f['budget_y']\n",
    "df_3f['imdb_user_rating'] = df_3f['imdb user rating']"
   ]
  },
  {
   "cell_type": "code",
   "execution_count": 26,
   "id": "1ef25035",
   "metadata": {},
   "outputs": [
    {
     "data": {
      "text/html": [
       "<div>\n",
       "<style scoped>\n",
       "    .dataframe tbody tr th:only-of-type {\n",
       "        vertical-align: middle;\n",
       "    }\n",
       "\n",
       "    .dataframe tbody tr th {\n",
       "        vertical-align: top;\n",
       "    }\n",
       "\n",
       "    .dataframe thead th {\n",
       "        text-align: right;\n",
       "    }\n",
       "</style>\n",
       "<table border=\"1\" class=\"dataframe\">\n",
       "  <thead>\n",
       "    <tr style=\"text-align: right;\">\n",
       "      <th></th>\n",
       "      <th>budget_y</th>\n",
       "      <th>writers</th>\n",
       "      <th>directors</th>\n",
       "      <th>producers</th>\n",
       "      <th>cast_x</th>\n",
       "      <th>genres_x</th>\n",
       "      <th>metascore</th>\n",
       "      <th>imdb user rating</th>\n",
       "      <th>release_date</th>\n",
       "      <th>revenue</th>\n",
       "      <th>...</th>\n",
       "      <th>c15</th>\n",
       "      <th>c16</th>\n",
       "      <th>c17</th>\n",
       "      <th>g1</th>\n",
       "      <th>g2</th>\n",
       "      <th>g3</th>\n",
       "      <th>g4</th>\n",
       "      <th>g5</th>\n",
       "      <th>budget</th>\n",
       "      <th>imdb_user_rating</th>\n",
       "    </tr>\n",
       "  </thead>\n",
       "  <tbody>\n",
       "    <tr>\n",
       "      <th>0</th>\n",
       "      <td>17000000</td>\n",
       "      <td>[-0.6893514, 0.027065942, -0.5796865, -0.94012...</td>\n",
       "      <td>[0.13440827, 2.6390803, -0.73129773, -1.417367...</td>\n",
       "      <td>[0.0672495, 0.23757625, -0.33949712, -0.151524...</td>\n",
       "      <td>[-0.18605737, -0.035827875, -0.02928893, 0.014...</td>\n",
       "      <td>[-0.06979808, -1.3382453, -0.98028475, 0.21630...</td>\n",
       "      <td>26</td>\n",
       "      <td>6</td>\n",
       "      <td>10/1/98</td>\n",
       "      <td>30331165</td>\n",
       "      <td>...</td>\n",
       "      <td>-0.057971</td>\n",
       "      <td>-0.341308</td>\n",
       "      <td>-0.007100</td>\n",
       "      <td>-0.069798</td>\n",
       "      <td>-1.338245</td>\n",
       "      <td>-0.980285</td>\n",
       "      <td>0.216301</td>\n",
       "      <td>-0.305167</td>\n",
       "      <td>17000000</td>\n",
       "      <td>6</td>\n",
       "    </tr>\n",
       "    <tr>\n",
       "      <th>1</th>\n",
       "      <td>0</td>\n",
       "      <td>[-1.2058403, 0.3268854, 0.7174303, -0.6224141,...</td>\n",
       "      <td>[-2.0156517, 0.59724534, -1.0167195, -0.865958...</td>\n",
       "      <td>[-0.14680491, 0.14712627, -1.1016364, -0.57326...</td>\n",
       "      <td>[0.15328898, 0.045781136, -0.018145978, 0.0145...</td>\n",
       "      <td>[0.0021236688, -0.15965456, -1.4836801, -0.585...</td>\n",
       "      <td>40</td>\n",
       "      <td>6</td>\n",
       "      <td>1/15/99</td>\n",
       "      <td>0</td>\n",
       "      <td>...</td>\n",
       "      <td>-0.116217</td>\n",
       "      <td>0.069483</td>\n",
       "      <td>-0.020705</td>\n",
       "      <td>0.002124</td>\n",
       "      <td>-0.159655</td>\n",
       "      <td>-1.483680</td>\n",
       "      <td>-0.585685</td>\n",
       "      <td>-0.025198</td>\n",
       "      <td>0</td>\n",
       "      <td>6</td>\n",
       "    </tr>\n",
       "  </tbody>\n",
       "</table>\n",
       "<p>2 rows × 70 columns</p>\n",
       "</div>"
      ],
      "text/plain": [
       "   budget_y                                            writers  \\\n",
       "0  17000000  [-0.6893514, 0.027065942, -0.5796865, -0.94012...   \n",
       "1         0  [-1.2058403, 0.3268854, 0.7174303, -0.6224141,...   \n",
       "\n",
       "                                           directors  \\\n",
       "0  [0.13440827, 2.6390803, -0.73129773, -1.417367...   \n",
       "1  [-2.0156517, 0.59724534, -1.0167195, -0.865958...   \n",
       "\n",
       "                                           producers  \\\n",
       "0  [0.0672495, 0.23757625, -0.33949712, -0.151524...   \n",
       "1  [-0.14680491, 0.14712627, -1.1016364, -0.57326...   \n",
       "\n",
       "                                              cast_x  \\\n",
       "0  [-0.18605737, -0.035827875, -0.02928893, 0.014...   \n",
       "1  [0.15328898, 0.045781136, -0.018145978, 0.0145...   \n",
       "\n",
       "                                            genres_x  metascore  \\\n",
       "0  [-0.06979808, -1.3382453, -0.98028475, 0.21630...         26   \n",
       "1  [0.0021236688, -0.15965456, -1.4836801, -0.585...         40   \n",
       "\n",
       "   imdb user rating release_date   revenue  ...       c15       c16       c17  \\\n",
       "0                 6      10/1/98  30331165  ... -0.057971 -0.341308 -0.007100   \n",
       "1                 6      1/15/99         0  ... -0.116217  0.069483 -0.020705   \n",
       "\n",
       "         g1        g2        g3        g4        g5    budget  \\\n",
       "0 -0.069798 -1.338245 -0.980285  0.216301 -0.305167  17000000   \n",
       "1  0.002124 -0.159655 -1.483680 -0.585685 -0.025198         0   \n",
       "\n",
       "   imdb_user_rating  \n",
       "0                 6  \n",
       "1                 6  \n",
       "\n",
       "[2 rows x 70 columns]"
      ]
     },
     "execution_count": 26,
     "metadata": {},
     "output_type": "execute_result"
    }
   ],
   "source": [
    "df_3f.head(2)"
   ]
  },
  {
   "cell_type": "code",
   "execution_count": 27,
   "id": "bf11446e",
   "metadata": {},
   "outputs": [],
   "source": [
    "df_4a = df_3f[[\n",
    "    'budget', \n",
    "    'w1','w2', 'w3','w4', 'w5','w6',\n",
    "    'w7','w8', 'w9','w10', 'w11','w12',    \n",
    "    'd1','d2', 'd3','d4', 'd5','d6',\n",
    "    'd7','d8', 'd9','d10',   \n",
    "    'p1','p2', 'p3','p4', 'p5','p6',\n",
    "    'p7','p8', 'p9','p10', 'p11', 'p12', 'p13',   \n",
    "    'c1','c2', 'c3','c4', 'c5','c6',\n",
    "    'c7','c8', 'c9','c10', 'c11', 'c12', 'c13',\n",
    "    'c14','c15', 'c16','c17',    \n",
    "    'g1','g2', 'g3','g4', 'g5',\n",
    "    'metascore',\n",
    "    'imdb_user_rating',\n",
    "    'week_of_year',\n",
    "    'revenue'\n",
    "]]"
   ]
  },
  {
   "cell_type": "code",
   "execution_count": 28,
   "id": "8d7dcea7",
   "metadata": {},
   "outputs": [
    {
     "data": {
      "text/html": [
       "<div>\n",
       "<style scoped>\n",
       "    .dataframe tbody tr th:only-of-type {\n",
       "        vertical-align: middle;\n",
       "    }\n",
       "\n",
       "    .dataframe tbody tr th {\n",
       "        vertical-align: top;\n",
       "    }\n",
       "\n",
       "    .dataframe thead th {\n",
       "        text-align: right;\n",
       "    }\n",
       "</style>\n",
       "<table border=\"1\" class=\"dataframe\">\n",
       "  <thead>\n",
       "    <tr style=\"text-align: right;\">\n",
       "      <th></th>\n",
       "      <th>budget</th>\n",
       "      <th>w1</th>\n",
       "      <th>w2</th>\n",
       "      <th>w3</th>\n",
       "      <th>w4</th>\n",
       "      <th>w5</th>\n",
       "      <th>w6</th>\n",
       "      <th>w7</th>\n",
       "      <th>w8</th>\n",
       "      <th>w9</th>\n",
       "      <th>...</th>\n",
       "      <th>c17</th>\n",
       "      <th>g1</th>\n",
       "      <th>g2</th>\n",
       "      <th>g3</th>\n",
       "      <th>g4</th>\n",
       "      <th>g5</th>\n",
       "      <th>metascore</th>\n",
       "      <th>imdb_user_rating</th>\n",
       "      <th>week_of_year</th>\n",
       "      <th>revenue</th>\n",
       "    </tr>\n",
       "  </thead>\n",
       "  <tbody>\n",
       "    <tr>\n",
       "      <th>0</th>\n",
       "      <td>17000000</td>\n",
       "      <td>-0.689351</td>\n",
       "      <td>0.027066</td>\n",
       "      <td>-0.579687</td>\n",
       "      <td>-0.940121</td>\n",
       "      <td>0.517654</td>\n",
       "      <td>-0.58329</td>\n",
       "      <td>-0.661125</td>\n",
       "      <td>0.390009</td>\n",
       "      <td>0.454081</td>\n",
       "      <td>...</td>\n",
       "      <td>-0.007100</td>\n",
       "      <td>-0.069798</td>\n",
       "      <td>-1.338245</td>\n",
       "      <td>-0.980285</td>\n",
       "      <td>0.216301</td>\n",
       "      <td>-0.305167</td>\n",
       "      <td>26</td>\n",
       "      <td>6</td>\n",
       "      <td>40</td>\n",
       "      <td>30331165</td>\n",
       "    </tr>\n",
       "    <tr>\n",
       "      <th>1</th>\n",
       "      <td>0</td>\n",
       "      <td>-1.205840</td>\n",
       "      <td>0.326885</td>\n",
       "      <td>0.717430</td>\n",
       "      <td>-0.622414</td>\n",
       "      <td>0.204414</td>\n",
       "      <td>0.10508</td>\n",
       "      <td>0.822529</td>\n",
       "      <td>-0.340266</td>\n",
       "      <td>0.436778</td>\n",
       "      <td>...</td>\n",
       "      <td>-0.020705</td>\n",
       "      <td>0.002124</td>\n",
       "      <td>-0.159655</td>\n",
       "      <td>-1.483680</td>\n",
       "      <td>-0.585685</td>\n",
       "      <td>-0.025198</td>\n",
       "      <td>40</td>\n",
       "      <td>6</td>\n",
       "      <td>2</td>\n",
       "      <td>0</td>\n",
       "    </tr>\n",
       "  </tbody>\n",
       "</table>\n",
       "<p>2 rows × 62 columns</p>\n",
       "</div>"
      ],
      "text/plain": [
       "     budget        w1        w2        w3        w4        w5       w6  \\\n",
       "0  17000000 -0.689351  0.027066 -0.579687 -0.940121  0.517654 -0.58329   \n",
       "1         0 -1.205840  0.326885  0.717430 -0.622414  0.204414  0.10508   \n",
       "\n",
       "         w7        w8        w9  ...       c17        g1        g2        g3  \\\n",
       "0 -0.661125  0.390009  0.454081  ... -0.007100 -0.069798 -1.338245 -0.980285   \n",
       "1  0.822529 -0.340266  0.436778  ... -0.020705  0.002124 -0.159655 -1.483680   \n",
       "\n",
       "         g4        g5  metascore  imdb_user_rating  week_of_year   revenue  \n",
       "0  0.216301 -0.305167         26                 6            40  30331165  \n",
       "1 -0.585685 -0.025198         40                 6             2         0  \n",
       "\n",
       "[2 rows x 62 columns]"
      ]
     },
     "execution_count": 28,
     "metadata": {},
     "output_type": "execute_result"
    }
   ],
   "source": [
    "df_4a.head(2)"
   ]
  },
  {
   "cell_type": "code",
   "execution_count": 29,
   "id": "86d28d9a",
   "metadata": {},
   "outputs": [],
   "source": [
    "df_4a.to_csv(dir_1 + 'movie_processed_1.csv', index=False)"
   ]
  },
  {
   "cell_type": "code",
   "execution_count": null,
   "id": "84e05c2b",
   "metadata": {},
   "outputs": [],
   "source": []
  },
  {
   "cell_type": "code",
   "execution_count": null,
   "id": "e97687fa",
   "metadata": {},
   "outputs": [],
   "source": []
  }
 ],
 "metadata": {
  "kernelspec": {
   "display_name": "Python 3 (ipykernel)",
   "language": "python",
   "name": "python3"
  },
  "language_info": {
   "codemirror_mode": {
    "name": "ipython",
    "version": 3
   },
   "file_extension": ".py",
   "mimetype": "text/x-python",
   "name": "python",
   "nbconvert_exporter": "python",
   "pygments_lexer": "ipython3",
   "version": "3.8.13"
  }
 },
 "nbformat": 4,
 "nbformat_minor": 5
}
