{
 "cells": [
  {
   "cell_type": "code",
   "execution_count": 5,
   "id": "3e602346",
   "metadata": {},
   "outputs": [],
   "source": [
    "import pandas as pd\n",
    "import numpy as np"
   ]
  },
  {
   "cell_type": "code",
   "execution_count": 6,
   "id": "72617c79",
   "metadata": {},
   "outputs": [],
   "source": [
    "dir_1 = 'outputs/'"
   ]
  },
  {
   "cell_type": "code",
   "execution_count": 7,
   "id": "9cb1046a",
   "metadata": {},
   "outputs": [],
   "source": [
    "list_option = [\n",
    "    # (False, 0.01, 0.5),        \n",
    "    # (False, 0.01, 0.4),\n",
    "    # (False, 0.01, 0.3),\n",
    "    # (False, 0.01, 0.2),\n",
    "    # (False, 0.01, 0.1),        \n",
    "    # (False, 0.005, 0.5),        \n",
    "    # (False, 0.005, 0.4),\n",
    "    # (False, 0.005, 0.3),\n",
    "    # (False, 0.005, 0.2),\n",
    "    # (False, 0.005, 0.1),        \n",
    "    # (False, 0.001, 0.5),        \n",
    "    # (False, 0.001, 0.4),\n",
    "    # (False, 0.001, 0.3),\n",
    "    # (False, 0.001, 0.2),\n",
    "    # (False, 0.001, 0.1),        \n",
    "\n",
    "    # (True, 0.01, 0.5),        \n",
    "    # (True, 0.01, 0.4),\n",
    "    # (True, 0.01, 0.3),\n",
    "    # (True, 0.01, 0.2),\n",
    "    # (True, 0.01, 0.1),        \n",
    "    # (True, 0.005, 0.5),        \n",
    "    # (True, 0.005, 0.4),\n",
    "    # (True, 0.005, 0.3),\n",
    "    # (True, 0.005, 0.2),\n",
    "    # (True, 0.005, 0.1),        \n",
    "    # (True, 0.001, 0.5),        \n",
    "    # (True, 0.001, 0.4),\n",
    "    # (True, 0.001, 0.3),\n",
    "    # (True, 0.001, 0.2),\n",
    "    (True, 0.001, 0.1),        \n",
    "\n",
    "]"
   ]
  },
  {
   "cell_type": "code",
   "execution_count": 8,
   "id": "a06f7abf",
   "metadata": {},
   "outputs": [
    {
     "name": "stdout",
     "output_type": "stream",
     "text": [
      "======================================\n",
      "True 0.001 0.1\n",
      "  index  bud    cas    gen    imd    rev\n",
      "0   bud  0.0  0.441  0.000  0.348  0.246\n",
      "1   cas  0.0  0.000  0.000  0.000  0.000\n",
      "2   gen  0.0  0.441  0.000  0.000  0.000\n",
      "3   imd  0.0  0.474  0.000  0.000  0.000\n",
      "4   rev  0.0  0.290  0.202  0.543  0.000\n",
      "  index  bud  cas  gen  imd  rev\n",
      "0   bud  0.0  1.0  1.0  1.0  0.0\n",
      "1   cas  0.0  1.0  1.0  1.0  0.0\n",
      "2   gen  0.0  1.0  1.0  1.0  0.0\n",
      "3   imd  0.0  1.0  0.0  0.0  0.0\n",
      "4   rev  0.0  1.0  1.0  1.0  0.0\n",
      "======================================\n"
     ]
    }
   ],
   "source": [
    "for opt in list_option:\n",
    "    suffix = str(opt[0]) + str(opt[1]) + str(opt[2]) + '.csv'    \n",
    "    ##################################################################\n",
    "    fn_1 = dir_1 + 'W_con_' + suffix\n",
    "    df_1 = pd.read_csv(fn_1, header=None)\n",
    "    df_1.columns = [\n",
    "        'bud', 'cas', 'gen', 'imd', 'rev'\n",
    "    ]\n",
    "    df_1['index'] = [\n",
    "        'bud', 'cas', 'gen', 'imd', 'rev'\n",
    "    ]\n",
    "    df_1 = df_1[[\n",
    "        'index',\n",
    "        'bud', 'cas', 'gen', 'imd', 'rev'\n",
    "    ]]    \n",
    "    ##################################################################\n",
    "    fn_2 = dir_1 + 'W_flat_' + suffix        \n",
    "    df_2 = pd.read_csv(fn_2, header=None)\n",
    "    df_2.columns = [\n",
    "        'bud', 'cas', 'gen', 'imd', 'rev'\n",
    "    ]\n",
    "    df_2['index'] = [\n",
    "        'bud', 'cas', 'gen', 'imd', 'rev'\n",
    "    ]\n",
    "    df_2 = df_2[[\n",
    "        'index',\n",
    "        'bud', 'cas', 'gen', 'imd', 'rev'\n",
    "    ]]    \n",
    "    ##################################################################    \n",
    "    print('======================================')\n",
    "    print(opt[0], opt[1], opt[2])\n",
    "    print(df_1.round(3))\n",
    "    print(df_2.round(3))\n",
    "    print('======================================')"
   ]
  },
  {
   "cell_type": "code",
   "execution_count": 37,
   "id": "6f921c99",
   "metadata": {},
   "outputs": [],
   "source": [
    "## notears concept (8 edges)\n",
    "## probable right (6): bud->cas, bud->imd, bud->rev, gen->cas, gen->imd, rev->imd\n",
    "## probable wrong (2): imd->cas, rev->cas\n",
    "\n",
    "## notears flat (14 edges) + 2 self loop (cas->cas, gen->gen) + can have cycles\n",
    "## probable right (8): \n",
    "## probable wrong (6): rev->bud, @@@rev->cas, rev->gen, rev->imd, @@@imd->cas, cas->gen\n"
   ]
  },
  {
   "cell_type": "code",
   "execution_count": null,
   "id": "5a52351a",
   "metadata": {},
   "outputs": [],
   "source": []
  },
  {
   "cell_type": "code",
   "execution_count": null,
   "id": "db987191",
   "metadata": {},
   "outputs": [],
   "source": []
  }
 ],
 "metadata": {
  "kernelspec": {
   "display_name": "Python 3 (ipykernel)",
   "language": "python",
   "name": "python3"
  },
  "language_info": {
   "codemirror_mode": {
    "name": "ipython",
    "version": 3
   },
   "file_extension": ".py",
   "mimetype": "text/x-python",
   "name": "python",
   "nbconvert_exporter": "python",
   "pygments_lexer": "ipython3",
   "version": "3.8.13"
  }
 },
 "nbformat": 4,
 "nbformat_minor": 5
}
