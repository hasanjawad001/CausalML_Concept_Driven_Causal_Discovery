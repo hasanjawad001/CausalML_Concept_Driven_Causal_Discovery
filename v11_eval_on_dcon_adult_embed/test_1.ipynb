{
 "cells": [
  {
   "cell_type": "code",
   "execution_count": 4,
   "id": "fb2355d9-59a1-4c3d-a500-b3f4cfd8db4d",
   "metadata": {},
   "outputs": [
    {
     "name": "stdout",
     "output_type": "stream",
     "text": [
      "100\n"
     ]
    }
   ],
   "source": [
    "import torch\n",
    "import torch.nn as nn\n",
    "\n",
    "# Define the size of the vocabulary and the size of the embedding vectors\n",
    "vocab_size = 10000\n",
    "embedding_dim = 100\n",
    "\n",
    "# Create an instance of the Embedding class\n",
    "embedding_layer = nn.Embedding(vocab_size, embedding_dim)\n",
    "\n",
    "# Define a sentence to be transformed\n",
    "sentence = \"The quick brown fox jumps over the lazy dog\"\n",
    "\n",
    "vocab = {}\n",
    "for i, word in enumerate(sentence.split()):\n",
    "    vocab[word] = i\n",
    "\n",
    "\n",
    "# Convert the sentence into a sequence of word indices\n",
    "word_indices = [vocab[word] for word in sentence.split()]\n",
    "\n",
    "# Pass the sequence of word indices through the embedding layer\n",
    "embedding_vectors = embedding_layer(torch.tensor(word_indices))\n",
    "\n",
    "# The resulting tensor contains the embedding vectors for each word in the sentence\n",
    "print(len(embedding_vectors[0]))\n"
   ]
  },
  {
   "cell_type": "code",
   "execution_count": null,
   "id": "0607f0d8-1723-4685-a4f3-09135516e948",
   "metadata": {},
   "outputs": [],
   "source": []
  },
  {
   "cell_type": "code",
   "execution_count": null,
   "id": "72055e59-44b9-4476-8001-530c2eb305ed",
   "metadata": {},
   "outputs": [],
   "source": []
  },
  {
   "cell_type": "code",
   "execution_count": null,
   "id": "8202fb38-c66d-4822-8a94-0f3b79713355",
   "metadata": {},
   "outputs": [],
   "source": []
  }
 ],
 "metadata": {
  "kernelspec": {
   "display_name": "Python 3 (ipykernel)",
   "language": "python",
   "name": "python3"
  },
  "language_info": {
   "codemirror_mode": {
    "name": "ipython",
    "version": 3
   },
   "file_extension": ".py",
   "mimetype": "text/x-python",
   "name": "python",
   "nbconvert_exporter": "python",
   "pygments_lexer": "ipython3",
   "version": "3.8.13"
  }
 },
 "nbformat": 4,
 "nbformat_minor": 5
}
